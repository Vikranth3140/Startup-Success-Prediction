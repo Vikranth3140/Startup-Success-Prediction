{
 "cells": [
  {
   "cell_type": "code",
   "execution_count": null,
   "metadata": {},
   "outputs": [],
   "source": [
    "pip install pandas numpy matplotlib seaborn scikit-learn"
   ]
  },
  {
   "cell_type": "code",
   "execution_count": null,
   "metadata": {},
   "outputs": [],
   "source": [
    "pip freeze > requirements.txt"
   ]
  },
  {
   "cell_type": "code",
   "execution_count": 3,
   "metadata": {},
   "outputs": [],
   "source": [
    "import pandas as pd\n",
    "import numpy as np\n",
    "import matplotlib.pyplot as plt\n",
    "import seaborn as sns\n",
    "\n",
    "df = pd.read_csv(\"datasets/kaggle/startup data.csv\")"
   ]
  },
  {
   "cell_type": "code",
   "execution_count": null,
   "metadata": {},
   "outputs": [],
   "source": [
    "print(\"First few rows of the dataset:\\n\")\n",
    "print(\"=\"*665)\n",
    "print(df.head().to_string(index=False))\n",
    "print(\"=\"*665)\n",
    "\n",
    "print(\"\\nData Types of Each Column:\")\n",
    "print(\"=\"*40)\n",
    "print(df.dtypes.to_string())\n",
    "print(\"=\"*40)"
   ]
  },
  {
   "cell_type": "code",
   "execution_count": null,
   "metadata": {},
   "outputs": [],
   "source": [
    "print(\"\\nChecking for null values:\")\n",
    "missing_values = df.isnull().sum()\n",
    "print(missing_values[missing_values > 0])\n",
    "\n",
    "df = df.dropna()\n",
    "\n",
    "print(\"\\nUpdated Dataset Preview After Handling Missing Values:\")\n",
    "print(\"=\"*65)\n",
    "print(df.head().to_string(index=False))\n",
    "print(\"=\"*65)"
   ]
  },
  {
   "cell_type": "markdown",
   "metadata": {},
   "source": [
    "# Categorical"
   ]
  },
  {
   "cell_type": "code",
   "execution_count": null,
   "metadata": {},
   "outputs": [],
   "source": [
    "columns_to_drop = [\n",
    "    'Unnamed: 6', 'closed_at', 'age_first_milestone_year', 'age_last_milestone_year', \n",
    "    'state_code.1', 'is_CA', 'is_NY', 'is_MA', 'is_TX', 'is_otherstate', 'is_software', \n",
    "    'is_web', 'is_mobile', 'is_enterprise', 'is_advertising', \n",
    "    'is_gamesvideo', 'is_ecommerce', 'is_biotech', 'is_consulting', \n",
    "    'is_othercategory', 'object_id', 'has_roundA', 'has_roundB', \n",
    "    'has_roundC', 'has_roundD'\n",
    "]\n",
    "\n",
    "df = df.drop(columns=columns_to_drop)\n",
    "\n",
    "print(\"The specified columns have been dropped from the DataFrame.\")\n",
    "print(\"Remaining DataFrame columns:\", df.columns.tolist())"
   ]
  },
  {
   "cell_type": "code",
   "execution_count": null,
   "metadata": {},
   "outputs": [],
   "source": [
    "import os\n",
    "from sklearn.feature_selection import SelectKBest, f_classif, VarianceThreshold\n",
    "\n",
    "features = df.select_dtypes(include=[np.number]).drop(columns=['Unnamed: 0'])\n",
    "target = df['status']\n",
    "\n",
    "constant_filter = VarianceThreshold(threshold=0)\n",
    "filtered_features = constant_filter.fit_transform(features)\n",
    "filtered_feature_names = features.columns[constant_filter.get_support(indices=True)]\n",
    "\n",
    "selector = SelectKBest(score_func=f_classif, k=\"all\")\n",
    "selected_features = selector.fit_transform(filtered_features, target)\n",
    "\n",
    "selected_feature_names = filtered_feature_names[selector.get_support(indices=True)]\n",
    "selected_feature_scores = selector.scores_[selector.get_support(indices=True)]\n",
    "\n",
    "top_features = pd.DataFrame({'Feature': selected_feature_names, 'Score': selected_feature_scores})\n",
    "top_features = top_features.sort_values(by='Score', ascending=False)\n",
    "\n",
    "directory = \"Best Features/startup data\"\n",
    "os.makedirs(directory, exist_ok=True)\n",
    "\n",
    "kbest_features_path = os.path.join(directory, \"categorical_kbest_features.txt\")\n",
    "top_features.to_string(kbest_features_path, index=False)\n",
    "\n",
    "selected_features = top_features[top_features['Score'] > 1]\n",
    "selected_kbest_features_path = os.path.join(directory, \"categorical_selected_kbest_features.txt\")\n",
    "selected_features.to_string(selected_kbest_features_path, index=False)\n",
    "\n",
    "print(\"Top features saved to:\", kbest_features_path)\n",
    "print(\"Selected features with Score > 1 saved to:\", selected_kbest_features_path)"
   ]
  },
  {
   "cell_type": "code",
   "execution_count": null,
   "metadata": {},
   "outputs": [],
   "source": [
    "# We found that `labels` column has inf importance, that is, it is corresponding to `status` target column\n",
    "\n",
    "if 'labels' in df.columns and 'status' in df.columns:\n",
    "    acquired_check = df[(df['status'] == 'acquired') & (df['labels'] != 1)]\n",
    "    \n",
    "    closed_check = df[(df['status'] == 'closed') & (df['labels'] != 0)]\n",
    "    \n",
    "    if not acquired_check.empty or not closed_check.empty:\n",
    "        print(\"Mismatch found between 'labels' and 'status':\")\n",
    "        print(f\"- Rows where 'status' is 'acquired' but 'labels' is not 1: {len(acquired_check)}\")\n",
    "        print(f\"- Rows where 'status' is 'closed' but 'labels' is not 0: {len(closed_check)}\")\n",
    "    else:\n",
    "        print(\"The 'labels' column correctly corresponds to the 'status'.\")\n",
    "else:\n",
    "    print(\"Either 'labels' or 'status' column is missing. Please check the column names.\")"
   ]
  },
  {
   "cell_type": "code",
   "execution_count": 9,
   "metadata": {},
   "outputs": [],
   "source": [
    "# We have to drop `labels` as it directly corresponds to `status` target column\n",
    "\n",
    "df.drop('labels', axis=1, inplace=True, errors='ignore')"
   ]
  },
  {
   "cell_type": "code",
   "execution_count": null,
   "metadata": {},
   "outputs": [],
   "source": [
    "# We now drop the `labels` column from the Best Features, so that we can then proceed to save our final dataset\n",
    "\n",
    "def remove_labels_line(file_path):\n",
    "    with open(file_path, 'r') as file:\n",
    "        lines = file.readlines()\n",
    "    # Filter out lines containing 'labels'\n",
    "    lines = [line for line in lines if 'labels' not in line]\n",
    "    # Write the filtered lines back to the file\n",
    "    with open(file_path, 'w') as file:\n",
    "        file.writelines(lines)\n",
    "\n",
    "# Apply the function to both text files\n",
    "remove_labels_line(kbest_features_path)\n",
    "remove_labels_line(selected_kbest_features_path)\n",
    "\n",
    "print(\"Lines containing 'labels' have been removed from both files.\")\n",
    "\n",
    "selected_feature_names = selected_feature_names[selected_feature_names != 'labels']\n",
    "\n",
    "print(\"'labels' has been removed from selected_feature_names\")"
   ]
  },
  {
   "cell_type": "code",
   "execution_count": 11,
   "metadata": {},
   "outputs": [],
   "source": [
    "df = df[selected_feature_names]"
   ]
  },
  {
   "cell_type": "code",
   "execution_count": null,
   "metadata": {},
   "outputs": [],
   "source": [
    "output_path = \"datasets/new/startup data.csv\"\n",
    "\n",
    "os.makedirs(os.path.dirname(output_path), exist_ok=True)\n",
    "\n",
    "df.to_csv(output_path, index=False)\n",
    "print(f\"The DataFrame has been saved to {output_path}.\")"
   ]
  },
  {
   "cell_type": "markdown",
   "metadata": {},
   "source": [
    "# Numeric"
   ]
  },
  {
   "cell_type": "code",
   "execution_count": null,
   "metadata": {},
   "outputs": [],
   "source": [
    "import os\n",
    "from sklearn.preprocessing import LabelEncoder\n",
    "from sklearn.feature_selection import SelectKBest, f_classif\n",
    "\n",
    "df_original = pd.read_csv(\"datasets/kaggle/startup data.csv\")\n",
    "\n",
    "columns_to_drop = [\n",
    "    'Unnamed: 6', 'closed_at', 'age_first_milestone_year', 'age_last_milestone_year', \n",
    "    'state_code.1', 'is_CA', 'is_NY', 'is_MA', 'is_TX', 'is_otherstate', 'is_software', \n",
    "    'is_web', 'is_mobile', 'is_enterprise', 'is_advertising', \n",
    "    'is_gamesvideo', 'is_ecommerce', 'is_biotech', 'is_consulting', \n",
    "    'is_othercategory', 'object_id', 'has_roundA', 'has_roundB', \n",
    "    'has_roundC', 'has_roundD'\n",
    "]\n",
    "\n",
    "original_columns = set(df_original.columns)\n",
    "dropped_columns = set(columns_to_drop)\n",
    "only_in_original = list(original_columns - dropped_columns)\n",
    "\n",
    "features = [col for col in only_in_original if col not in ['status', 'labels']]\n",
    "df_selected = df_original[features]\n",
    "y = df_original['status']\n",
    "\n",
    "label_encoders = {}\n",
    "for col in df_selected.select_dtypes(include=['object']).columns:\n",
    "    le = LabelEncoder()\n",
    "    df_selected.loc[:, col] = le.fit_transform(df_selected[col].astype(str))\n",
    "    label_encoders[col] = le\n",
    "\n",
    "selector = SelectKBest(score_func=f_classif, k=10)\n",
    "X_kbest = selector.fit_transform(df_selected, y)\n",
    "\n",
    "selected_feature_names = df_selected.columns[selector.get_support(indices=True)]\n",
    "selected_feature_scores = selector.scores_[selector.get_support(indices=True)]\n",
    "\n",
    "top_features = pd.DataFrame({'Feature': selected_feature_names, 'Score': selected_feature_scores})\n",
    "top_features = top_features.sort_values(by='Score', ascending=False)\n",
    "\n",
    "directory = \"Best Features/startup data\"\n",
    "os.makedirs(directory, exist_ok=True)\n",
    "\n",
    "kbest_features_path = os.path.join(directory, \"numeric_kbest_features.txt\")\n",
    "top_features.to_string(kbest_features_path, index=False)\n",
    "\n",
    "print(\"Top Features Selected Using SelectKBest with Scores:\")\n",
    "print(top_features)\n",
    "print(f\"The top features have been saved to {kbest_features_path}\")"
   ]
  },
  {
   "cell_type": "code",
   "execution_count": null,
   "metadata": {},
   "outputs": [],
   "source": []
  }
 ],
 "metadata": {
  "kernelspec": {
   "display_name": ".venv",
   "language": "python",
   "name": "python3"
  },
  "language_info": {
   "codemirror_mode": {
    "name": "ipython",
    "version": 3
   },
   "file_extension": ".py",
   "mimetype": "text/x-python",
   "name": "python",
   "nbconvert_exporter": "python",
   "pygments_lexer": "ipython3",
   "version": "3.12.0"
  }
 },
 "nbformat": 4,
 "nbformat_minor": 2
}
