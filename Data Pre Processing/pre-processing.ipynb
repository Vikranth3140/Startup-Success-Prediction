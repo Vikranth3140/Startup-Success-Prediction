{
 "cells": [
  {
   "cell_type": "code",
   "execution_count": 1,
   "metadata": {},
   "outputs": [
    {
     "name": "stdout",
     "output_type": "stream",
     "text": [
      "Requirement already satisfied: pandas in c:\\users\\vikra\\onedrive\\desktop\\startup-success-prediction\\.venv\\lib\\site-packages (2.2.3)\n",
      "Requirement already satisfied: numpy in c:\\users\\vikra\\onedrive\\desktop\\startup-success-prediction\\.venv\\lib\\site-packages (2.1.2)\n",
      "Requirement already satisfied: matplotlib in c:\\users\\vikra\\onedrive\\desktop\\startup-success-prediction\\.venv\\lib\\site-packages (3.9.2)\n",
      "Requirement already satisfied: seaborn in c:\\users\\vikra\\onedrive\\desktop\\startup-success-prediction\\.venv\\lib\\site-packages (0.13.2)\n",
      "Requirement already satisfied: scikit-learn in c:\\users\\vikra\\onedrive\\desktop\\startup-success-prediction\\.venv\\lib\\site-packages (1.5.2)\n",
      "Requirement already satisfied: python-dateutil>=2.8.2 in c:\\users\\vikra\\onedrive\\desktop\\startup-success-prediction\\.venv\\lib\\site-packages (from pandas) (2.9.0.post0)\n",
      "Requirement already satisfied: pytz>=2020.1 in c:\\users\\vikra\\onedrive\\desktop\\startup-success-prediction\\.venv\\lib\\site-packages (from pandas) (2024.2)\n",
      "Requirement already satisfied: tzdata>=2022.7 in c:\\users\\vikra\\onedrive\\desktop\\startup-success-prediction\\.venv\\lib\\site-packages (from pandas) (2024.2)\n",
      "Requirement already satisfied: contourpy>=1.0.1 in c:\\users\\vikra\\onedrive\\desktop\\startup-success-prediction\\.venv\\lib\\site-packages (from matplotlib) (1.3.0)\n",
      "Requirement already satisfied: cycler>=0.10 in c:\\users\\vikra\\onedrive\\desktop\\startup-success-prediction\\.venv\\lib\\site-packages (from matplotlib) (0.12.1)\n",
      "Requirement already satisfied: fonttools>=4.22.0 in c:\\users\\vikra\\onedrive\\desktop\\startup-success-prediction\\.venv\\lib\\site-packages (from matplotlib) (4.54.1)\n",
      "Requirement already satisfied: kiwisolver>=1.3.1 in c:\\users\\vikra\\onedrive\\desktop\\startup-success-prediction\\.venv\\lib\\site-packages (from matplotlib) (1.4.7)\n",
      "Requirement already satisfied: packaging>=20.0 in c:\\users\\vikra\\onedrive\\desktop\\startup-success-prediction\\.venv\\lib\\site-packages (from matplotlib) (24.1)\n",
      "Requirement already satisfied: pillow>=8 in c:\\users\\vikra\\onedrive\\desktop\\startup-success-prediction\\.venv\\lib\\site-packages (from matplotlib) (11.0.0)\n",
      "Requirement already satisfied: pyparsing>=2.3.1 in c:\\users\\vikra\\onedrive\\desktop\\startup-success-prediction\\.venv\\lib\\site-packages (from matplotlib) (3.2.0)\n",
      "Requirement already satisfied: scipy>=1.6.0 in c:\\users\\vikra\\onedrive\\desktop\\startup-success-prediction\\.venv\\lib\\site-packages (from scikit-learn) (1.14.1)\n",
      "Requirement already satisfied: joblib>=1.2.0 in c:\\users\\vikra\\onedrive\\desktop\\startup-success-prediction\\.venv\\lib\\site-packages (from scikit-learn) (1.4.2)\n",
      "Requirement already satisfied: threadpoolctl>=3.1.0 in c:\\users\\vikra\\onedrive\\desktop\\startup-success-prediction\\.venv\\lib\\site-packages (from scikit-learn) (3.5.0)\n",
      "Requirement already satisfied: six>=1.5 in c:\\users\\vikra\\onedrive\\desktop\\startup-success-prediction\\.venv\\lib\\site-packages (from python-dateutil>=2.8.2->pandas) (1.16.0)\n",
      "Note: you may need to restart the kernel to use updated packages.\n"
     ]
    }
   ],
   "source": [
    "pip install pandas numpy matplotlib seaborn scikit-learn"
   ]
  },
  {
   "cell_type": "code",
   "execution_count": 2,
   "metadata": {},
   "outputs": [
    {
     "name": "stdout",
     "output_type": "stream",
     "text": [
      "Note: you may need to restart the kernel to use updated packages.\n"
     ]
    }
   ],
   "source": [
    "pip freeze > requirements.txt"
   ]
  },
  {
   "cell_type": "code",
   "execution_count": 3,
   "metadata": {},
   "outputs": [],
   "source": [
    "import pandas as pd\n",
    "import numpy as np\n",
    "import matplotlib.pyplot as plt\n",
    "import seaborn as sns\n",
    "\n",
    "df = pd.read_csv(\"datasets/kaggle/startup data.csv\")"
   ]
  },
  {
   "cell_type": "code",
   "execution_count": 4,
   "metadata": {},
   "outputs": [
    {
     "name": "stdout",
     "output_type": "stream",
     "text": [
      "First few rows of the dataset:\n",
      "\n",
      "=========================================================================================================================================================================================================================================================================================================================================================================================================================================================================================================================================================================================================================================================================================\n",
      " Unnamed: 0 state_code  latitude   longitude zip_code      id          city             Unnamed: 6              name  labels founded_at closed_at first_funding_at last_funding_at  age_first_funding_year  age_last_funding_year  age_first_milestone_year  age_last_milestone_year  relationships  funding_rounds  funding_total_usd  milestones state_code.1  is_CA  is_NY  is_MA  is_TX  is_otherstate category_code  is_software  is_web  is_mobile  is_enterprise  is_advertising  is_gamesvideo  is_ecommerce  is_biotech  is_consulting  is_othercategory object_id  has_VC  has_angel  has_roundA  has_roundB  has_roundC  has_roundD  avg_participants  is_top500   status\n",
      "       1005         CA 42.358880  -71.056820    92101  c:6669     San Diego                    NaN       Bandsintown       1   1/1/2007       NaN         4/1/2009        1/1/2010                  2.2493                 3.0027                    4.6685                   6.7041              3               3             375000           3           CA      1      0      0      0              0         music            0       0          0              0               0              0             0           0              0                 1    c:6669       0          1           0           0           0           0            1.0000          0 acquired\n",
      "        204         CA 37.238916 -121.973718    95032 c:16283     Los Gatos                    NaN         TriCipher       1   1/1/2000       NaN        2/14/2005      12/28/2009                  5.1260                 9.9973                    7.0055                   7.0055              9               4           40100000           1           CA      1      0      0      0              0    enterprise            0       0          0              1               0              0             0           0              0                 0   c:16283       1          0           0           1           1           1            4.7500          1 acquired\n",
      "       1001         CA 32.901049 -117.192656    92121 c:65620     San Diego     San Diego CA 92121             Plixi       1  3/18/2009       NaN        3/30/2010       3/30/2010                  1.0329                 1.0329                    1.4575                   2.2055              5               1            2600000           2           CA      1      0      0      0              0           web            0       1          0              0               0              0             0           0              0                 0   c:65620       0          0           1           0           0           0            4.0000          1 acquired\n",
      "        738         CA 37.320309 -122.050040    95014 c:42668     Cupertino     Cupertino CA 95014 Solidcore Systems       1   1/1/2002       NaN        2/17/2005       4/25/2007                  3.1315                 5.3151                    6.0027                   6.0027              5               3           40000000           1           CA      1      0      0      0              0      software            1       0          0              0               0              0             0           0              0                 0   c:42668       0          0           0           1           1           1            3.3333          1 acquired\n",
      "       1002         CA 37.779281 -122.419236    94105 c:65806 San Francisco San Francisco CA 94105    Inhale Digital       0   8/1/2010 10/1/2012         8/1/2010        4/1/2012                  0.0000                 1.6685                    0.0384                   0.0384              2               2            1300000           1           CA      1      0      0      0              0   games_video            0       0          0              0               0              1             0           0              0                 0   c:65806       1          1           0           0           0           0            1.0000          1   closed\n",
      "=========================================================================================================================================================================================================================================================================================================================================================================================================================================================================================================================================================================================================================================================================================\n",
      "\n",
      "Data Types of Each Column:\n",
      "========================================\n",
      "Unnamed: 0                    int64\n",
      "state_code                   object\n",
      "latitude                    float64\n",
      "longitude                   float64\n",
      "zip_code                     object\n",
      "id                           object\n",
      "city                         object\n",
      "Unnamed: 6                   object\n",
      "name                         object\n",
      "labels                        int64\n",
      "founded_at                   object\n",
      "closed_at                    object\n",
      "first_funding_at             object\n",
      "last_funding_at              object\n",
      "age_first_funding_year      float64\n",
      "age_last_funding_year       float64\n",
      "age_first_milestone_year    float64\n",
      "age_last_milestone_year     float64\n",
      "relationships                 int64\n",
      "funding_rounds                int64\n",
      "funding_total_usd             int64\n",
      "milestones                    int64\n",
      "state_code.1                 object\n",
      "is_CA                         int64\n",
      "is_NY                         int64\n",
      "is_MA                         int64\n",
      "is_TX                         int64\n",
      "is_otherstate                 int64\n",
      "category_code                object\n",
      "is_software                   int64\n",
      "is_web                        int64\n",
      "is_mobile                     int64\n",
      "is_enterprise                 int64\n",
      "is_advertising                int64\n",
      "is_gamesvideo                 int64\n",
      "is_ecommerce                  int64\n",
      "is_biotech                    int64\n",
      "is_consulting                 int64\n",
      "is_othercategory              int64\n",
      "object_id                    object\n",
      "has_VC                        int64\n",
      "has_angel                     int64\n",
      "has_roundA                    int64\n",
      "has_roundB                    int64\n",
      "has_roundC                    int64\n",
      "has_roundD                    int64\n",
      "avg_participants            float64\n",
      "is_top500                     int64\n",
      "status                       object\n",
      "========================================\n"
     ]
    }
   ],
   "source": [
    "print(\"First few rows of the dataset:\\n\")\n",
    "print(\"=\"*665)\n",
    "print(df.head().to_string(index=False))\n",
    "print(\"=\"*665)\n",
    "\n",
    "print(\"\\nData Types of Each Column:\")\n",
    "print(\"=\"*40)\n",
    "print(df.dtypes.to_string())\n",
    "print(\"=\"*40)"
   ]
  },
  {
   "cell_type": "code",
   "execution_count": 5,
   "metadata": {},
   "outputs": [
    {
     "name": "stdout",
     "output_type": "stream",
     "text": [
      "\n",
      "Checking for null values:\n",
      "Unnamed: 6                  493\n",
      "closed_at                   588\n",
      "age_first_milestone_year    152\n",
      "age_last_milestone_year     152\n",
      "state_code.1                  1\n",
      "dtype: int64\n",
      "\n",
      "Updated Dataset Preview After Handling Missing Values:\n",
      "=================================================================\n",
      " Unnamed: 0 state_code  latitude   longitude zip_code      id          city             Unnamed: 6                      name  labels founded_at  closed_at first_funding_at last_funding_at  age_first_funding_year  age_last_funding_year  age_first_milestone_year  age_last_milestone_year  relationships  funding_rounds  funding_total_usd  milestones state_code.1  is_CA  is_NY  is_MA  is_TX  is_otherstate   category_code  is_software  is_web  is_mobile  is_enterprise  is_advertising  is_gamesvideo  is_ecommerce  is_biotech  is_consulting  is_othercategory object_id  has_VC  has_angel  has_roundA  has_roundB  has_roundC  has_roundD  avg_participants  is_top500 status\n",
      "       1002         CA 37.779281 -122.419236    94105 c:65806 San Francisco San Francisco CA 94105            Inhale Digital       0   8/1/2010  10/1/2012         8/1/2010        4/1/2012                  0.0000                 1.6685                    0.0384                   0.0384              2               2            1300000           1           CA      1      0      0      0              0     games_video            0       0          0              0               0              1             0           0              0                 0   c:65806       1          1           0           0           0           0               1.0          1 closed\n",
      "        379         CA 37.406914 -122.090370    94043 c:22898 Mountain View Mountain View CA 94043          Matisse Networks       0   1/1/2002  2/15/2009        7/18/2006       7/18/2006                  4.5452                 4.5452                    5.0027                   5.0027              3               1            7500000           1           CA      1      0      0      0              0 network_hosting            0       0          0              0               0              0             0           0              0                 1   c:22898       0          0           0           1           0           0               3.0          1 closed\n",
      "        355         CA 37.422859 -122.045217    94035 c:21492 Moffett Field Moffett Field CA 94035          Airship Ventures       0   1/1/2007 11/14/2012         5/9/2008        3/1/2009                  1.3534                 2.1644                    4.5178                   4.5178              3               2           10500000           1           CA      1      0      0      0              0           other            0       0          0              0               0              0             0           0              0                 1   c:21492       0          0           1           1           0           0               2.0          1 closed\n",
      "        785         NY 40.739010  -73.997259    10011 c:45111      New York      New York NY 10011 Entertainment Media Works       0   7/1/2004  10/1/2008        2/26/2007       2/26/2007                  2.6575                 2.6575                    0.0000                   0.0000              1               1            4000000           1           NY      0      1      0      0              0        software            1       0          0              0               0              0             0           0              0                 0   c:45111       0          0           0           1           0           0               1.0          1 closed\n",
      "        617         MA 42.546483  -71.173667     1887 c:35157    Wilmington     Wilmington MA 1887                    Viacor       0  12/1/1999 11/11/2011        9/12/2002      11/10/2010                  2.7836                10.9507                   -1.9151                  -1.9151             10               3           19009671           1           MA      0      0      1      0              0         biotech            0       0          0              0               0              0             0           1              0                 0   c:35157       0          0           0           1           0           0               2.0          1 closed\n",
      "=================================================================\n"
     ]
    }
   ],
   "source": [
    "print(\"\\nChecking for null values:\")\n",
    "missing_values = df.isnull().sum()\n",
    "print(missing_values[missing_values > 0])\n",
    "\n",
    "df = df.dropna()\n",
    "\n",
    "print(\"\\nUpdated Dataset Preview After Handling Missing Values:\")\n",
    "print(\"=\"*65)\n",
    "print(df.head().to_string(index=False))\n",
    "print(\"=\"*65)"
   ]
  },
  {
   "cell_type": "markdown",
   "metadata": {},
   "source": [
    "# Categorical"
   ]
  },
  {
   "cell_type": "code",
   "execution_count": 6,
   "metadata": {},
   "outputs": [
    {
     "name": "stdout",
     "output_type": "stream",
     "text": [
      "The specified columns have been dropped from the DataFrame.\n",
      "Remaining DataFrame columns: ['Unnamed: 0', 'state_code', 'latitude', 'longitude', 'zip_code', 'id', 'city', 'name', 'labels', 'founded_at', 'first_funding_at', 'last_funding_at', 'age_first_funding_year', 'age_last_funding_year', 'relationships', 'funding_rounds', 'funding_total_usd', 'milestones', 'category_code', 'has_VC', 'has_angel', 'avg_participants', 'is_top500', 'status']\n"
     ]
    }
   ],
   "source": [
    "columns_to_drop = [\n",
    "    'Unnamed: 6', 'closed_at', 'age_first_milestone_year', 'age_last_milestone_year', \n",
    "    'state_code.1', 'is_CA', 'is_NY', 'is_MA', 'is_TX', 'is_otherstate', 'is_software', \n",
    "    'is_web', 'is_mobile', 'is_enterprise', 'is_advertising', \n",
    "    'is_gamesvideo', 'is_ecommerce', 'is_biotech', 'is_consulting', \n",
    "    'is_othercategory', 'object_id', 'has_roundA', 'has_roundB', \n",
    "    'has_roundC', 'has_roundD'\n",
    "]\n",
    "\n",
    "df = df.drop(columns=columns_to_drop)\n",
    "\n",
    "print(\"The specified columns have been dropped from the DataFrame.\")\n",
    "print(\"Remaining DataFrame columns:\", df.columns.tolist())"
   ]
  },
  {
   "cell_type": "code",
   "execution_count": 7,
   "metadata": {},
   "outputs": [
    {
     "name": "stdout",
     "output_type": "stream",
     "text": [
      "Top features saved to: Best Features/startup data\\categorical_kbest_features.txt\n",
      "Selected features with Score > 1 saved to: Best Features/startup data\\categorical_selected_kbest_features.txt\n"
     ]
    },
    {
     "name": "stderr",
     "output_type": "stream",
     "text": [
      "c:\\Users\\vikra\\OneDrive\\Desktop\\Startup-Success-Prediction\\.venv\\Lib\\site-packages\\sklearn\\feature_selection\\_univariate_selection.py:113: RuntimeWarning: divide by zero encountered in divide\n",
      "  f = msb / msw\n"
     ]
    }
   ],
   "source": [
    "import os\n",
    "from sklearn.feature_selection import SelectKBest, f_classif, VarianceThreshold\n",
    "\n",
    "features = df.select_dtypes(include=[np.number]).drop(columns=['Unnamed: 0'])\n",
    "target = df['status']\n",
    "\n",
    "constant_filter = VarianceThreshold(threshold=0)\n",
    "filtered_features = constant_filter.fit_transform(features)\n",
    "filtered_feature_names = features.columns[constant_filter.get_support(indices=True)]\n",
    "\n",
    "selector = SelectKBest(score_func=f_classif, k=\"all\")\n",
    "selected_features = selector.fit_transform(filtered_features, target)\n",
    "\n",
    "selected_feature_names = filtered_feature_names[selector.get_support(indices=True)]\n",
    "selected_feature_scores = selector.scores_[selector.get_support(indices=True)]\n",
    "\n",
    "top_features = pd.DataFrame({'Feature': selected_feature_names, 'Score': selected_feature_scores})\n",
    "top_features = top_features.sort_values(by='Score', ascending=False)\n",
    "\n",
    "directory = \"Best Features/startup data\"\n",
    "os.makedirs(directory, exist_ok=True)\n",
    "\n",
    "kbest_features_path = os.path.join(directory, \"categorical_kbest_features.txt\")\n",
    "top_features.to_string(kbest_features_path, index=False)\n",
    "\n",
    "selected_features = top_features[top_features['Score'] > 1]\n",
    "selected_kbest_features_path = os.path.join(directory, \"categorical_selected_kbest_features.txt\")\n",
    "selected_features.to_string(selected_kbest_features_path, index=False)\n",
    "\n",
    "print(\"Top features saved to:\", kbest_features_path)\n",
    "print(\"Selected features with Score > 1 saved to:\", selected_kbest_features_path)"
   ]
  },
  {
   "cell_type": "code",
   "execution_count": 8,
   "metadata": {},
   "outputs": [
    {
     "name": "stdout",
     "output_type": "stream",
     "text": [
      "The 'labels' column correctly corresponds to the 'status'.\n"
     ]
    }
   ],
   "source": [
    "# We found that `labels` column has inf importance, that is, it is corresponding to `status` target column\n",
    "\n",
    "if 'labels' in df.columns and 'status' in df.columns:\n",
    "    acquired_check = df[(df['status'] == 'acquired') & (df['labels'] != 1)]\n",
    "    \n",
    "    closed_check = df[(df['status'] == 'closed') & (df['labels'] != 0)]\n",
    "    \n",
    "    if not acquired_check.empty or not closed_check.empty:\n",
    "        print(\"Mismatch found between 'labels' and 'status':\")\n",
    "        print(f\"- Rows where 'status' is 'acquired' but 'labels' is not 1: {len(acquired_check)}\")\n",
    "        print(f\"- Rows where 'status' is 'closed' but 'labels' is not 0: {len(closed_check)}\")\n",
    "    else:\n",
    "        print(\"The 'labels' column correctly corresponds to the 'status'.\")\n",
    "else:\n",
    "    print(\"Either 'labels' or 'status' column is missing. Please check the column names.\")"
   ]
  },
  {
   "cell_type": "code",
   "execution_count": 9,
   "metadata": {},
   "outputs": [],
   "source": [
    "# We have to drop `labels` as it directly corresponds to `status` target column\n",
    "\n",
    "df.drop('labels', axis=1, inplace=True, errors='ignore')"
   ]
  },
  {
   "cell_type": "code",
   "execution_count": 10,
   "metadata": {},
   "outputs": [
    {
     "name": "stdout",
     "output_type": "stream",
     "text": [
      "Lines containing 'labels' have been removed from both files.\n",
      "'labels' has been removed from selected_feature_names\n"
     ]
    }
   ],
   "source": [
    "# We now drop the `labels` column from the Best Features, so that we can then proceed to save our final dataset\n",
    "\n",
    "def remove_labels_line(file_path):\n",
    "    with open(file_path, 'r') as file:\n",
    "        lines = file.readlines()\n",
    "    # Filter out lines containing 'labels'\n",
    "    lines = [line for line in lines if 'labels' not in line]\n",
    "    # Write the filtered lines back to the file\n",
    "    with open(file_path, 'w') as file:\n",
    "        file.writelines(lines)\n",
    "\n",
    "# Apply the function to both text files\n",
    "remove_labels_line(kbest_features_path)\n",
    "remove_labels_line(selected_kbest_features_path)\n",
    "\n",
    "print(\"Lines containing 'labels' have been removed from both files.\")\n",
    "\n",
    "selected_feature_names = selected_feature_names[selected_feature_names != 'labels']\n",
    "\n",
    "print(\"'labels' has been removed from selected_feature_names\")"
   ]
  },
  {
   "cell_type": "code",
   "execution_count": 11,
   "metadata": {},
   "outputs": [],
   "source": [
    "df = df[selected_feature_names]"
   ]
  },
  {
   "cell_type": "code",
   "execution_count": 12,
   "metadata": {},
   "outputs": [
    {
     "name": "stdout",
     "output_type": "stream",
     "text": [
      "The DataFrame has been saved to datasets/new/startup data.csv.\n"
     ]
    }
   ],
   "source": [
    "output_path = \"datasets/new/startup data.csv\"\n",
    "\n",
    "os.makedirs(os.path.dirname(output_path), exist_ok=True)\n",
    "\n",
    "df.to_csv(output_path, index=False)\n",
    "print(f\"The DataFrame has been saved to {output_path}.\")"
   ]
  },
  {
   "cell_type": "markdown",
   "metadata": {},
   "source": [
    "# Numeric"
   ]
  },
  {
   "cell_type": "code",
   "execution_count": 13,
   "metadata": {},
   "outputs": [
    {
     "name": "stdout",
     "output_type": "stream",
     "text": [
      "Top Features Selected Using SelectKBest with Scores:\n",
      "                  Feature       Score\n",
      "1           relationships  137.514122\n",
      "6              milestones  111.227304\n",
      "4               is_top500   98.374244\n",
      "7          funding_rounds   40.836058\n",
      "3        avg_participants   33.001671\n",
      "0              state_code    5.687407\n",
      "2  age_first_funding_year    5.299387\n",
      "8   age_last_funding_year    5.034145\n",
      "9               has_angel    4.912630\n",
      "5              Unnamed: 0    4.370183\n",
      "The top features have been saved to Best Features/startup data\\numeric_kbest_features.txt\n"
     ]
    }
   ],
   "source": [
    "import os\n",
    "from sklearn.preprocessing import LabelEncoder\n",
    "from sklearn.feature_selection import SelectKBest, f_classif\n",
    "\n",
    "df_original = pd.read_csv(\"datasets/kaggle/startup data.csv\")\n",
    "\n",
    "columns_to_drop = [\n",
    "    'Unnamed: 6', 'closed_at', 'age_first_milestone_year', 'age_last_milestone_year', \n",
    "    'state_code.1', 'is_CA', 'is_NY', 'is_MA', 'is_TX', 'is_otherstate', 'is_software', \n",
    "    'is_web', 'is_mobile', 'is_enterprise', 'is_advertising', \n",
    "    'is_gamesvideo', 'is_ecommerce', 'is_biotech', 'is_consulting', \n",
    "    'is_othercategory', 'object_id', 'has_roundA', 'has_roundB', \n",
    "    'has_roundC', 'has_roundD'\n",
    "]\n",
    "\n",
    "original_columns = set(df_original.columns)\n",
    "dropped_columns = set(columns_to_drop)\n",
    "only_in_original = list(original_columns - dropped_columns)\n",
    "\n",
    "features = [col for col in only_in_original if col not in ['status', 'labels']]\n",
    "df_selected = df_original[features]\n",
    "y = df_original['status']\n",
    "\n",
    "label_encoders = {}\n",
    "for col in df_selected.select_dtypes(include=['object']).columns:\n",
    "    le = LabelEncoder()\n",
    "    df_selected.loc[:, col] = le.fit_transform(df_selected[col].astype(str))\n",
    "    label_encoders[col] = le\n",
    "\n",
    "selector = SelectKBest(score_func=f_classif, k=10)\n",
    "X_kbest = selector.fit_transform(df_selected, y)\n",
    "\n",
    "selected_feature_names = df_selected.columns[selector.get_support(indices=True)]\n",
    "selected_feature_scores = selector.scores_[selector.get_support(indices=True)]\n",
    "\n",
    "top_features = pd.DataFrame({'Feature': selected_feature_names, 'Score': selected_feature_scores})\n",
    "top_features = top_features.sort_values(by='Score', ascending=False)\n",
    "\n",
    "directory = \"Best Features/startup data\"\n",
    "os.makedirs(directory, exist_ok=True)\n",
    "\n",
    "kbest_features_path = os.path.join(directory, \"numeric_kbest_features.txt\")\n",
    "top_features.to_string(kbest_features_path, index=False)\n",
    "\n",
    "print(\"Top Features Selected Using SelectKBest with Scores:\")\n",
    "print(top_features)\n",
    "print(f\"The top features have been saved to {kbest_features_path}\")"
   ]
  },
  {
   "cell_type": "code",
   "execution_count": null,
   "metadata": {},
   "outputs": [],
   "source": []
  }
 ],
 "metadata": {
  "kernelspec": {
   "display_name": ".venv",
   "language": "python",
   "name": "python3"
  },
  "language_info": {
   "codemirror_mode": {
    "name": "ipython",
    "version": 3
   },
   "file_extension": ".py",
   "mimetype": "text/x-python",
   "name": "python",
   "nbconvert_exporter": "python",
   "pygments_lexer": "ipython3",
   "version": "3.12.0"
  }
 },
 "nbformat": 4,
 "nbformat_minor": 2
}
